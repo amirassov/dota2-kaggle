{
 "cells": [
  {
   "cell_type": "code",
   "execution_count": 37,
   "metadata": {
    "collapsed": false
   },
   "outputs": [],
   "source": [
    "from sklearn.ensemble import GradientBoostingClassifier\n",
    "from sklearn.linear_model import LogisticRegression\n",
    "import time\n",
    "from sklearn.cross_validation import train_test_split\n",
    "from sklearn.metrics import roc_auc_score\n",
    "import pandas as pd\n",
    "import numpy as np\n",
    "from sklearn.preprocessing import OneHotEncoder, LabelEncoder, StandardScaler\n",
    "from sklearn.feature_extraction.text import CountVectorizer\n",
    "import xgboost as xgb\n",
    "from sklearn.cross_validation import StratifiedKFold"
   ]
  },
  {
   "cell_type": "code",
   "execution_count": 2,
   "metadata": {
    "collapsed": false
   },
   "outputs": [],
   "source": [
    "from sklearn.cross_validation import StratifiedKFold\n",
    "import matplotlib.pyplot as plt\n",
    "%matplotlib inline\n",
    "import sys\n",
    "import math"
   ]
  },
  {
   "cell_type": "code",
   "execution_count": 26,
   "metadata": {
    "collapsed": false
   },
   "outputs": [
    {
     "data": {
      "text/html": [
       "<div>\n",
       "<table border=\"1\" class=\"dataframe\">\n",
       "  <thead>\n",
       "    <tr style=\"text-align: right;\">\n",
       "      <th></th>\n",
       "      <th>start_time</th>\n",
       "      <th>lobby_type</th>\n",
       "      <th>r1_hero</th>\n",
       "      <th>r1_level</th>\n",
       "      <th>r1_xp</th>\n",
       "      <th>r1_gold</th>\n",
       "      <th>r1_lh</th>\n",
       "      <th>r1_kills</th>\n",
       "      <th>r1_deaths</th>\n",
       "      <th>r1_items</th>\n",
       "      <th>...</th>\n",
       "      <th>dire_boots_count</th>\n",
       "      <th>dire_ward_observer_count</th>\n",
       "      <th>dire_ward_sentry_count</th>\n",
       "      <th>dire_first_ward_time</th>\n",
       "      <th>duration</th>\n",
       "      <th>radiant_win</th>\n",
       "      <th>tower_status_radiant</th>\n",
       "      <th>tower_status_dire</th>\n",
       "      <th>barracks_status_radiant</th>\n",
       "      <th>barracks_status_dire</th>\n",
       "    </tr>\n",
       "    <tr>\n",
       "      <th>match_id</th>\n",
       "      <th></th>\n",
       "      <th></th>\n",
       "      <th></th>\n",
       "      <th></th>\n",
       "      <th></th>\n",
       "      <th></th>\n",
       "      <th></th>\n",
       "      <th></th>\n",
       "      <th></th>\n",
       "      <th></th>\n",
       "      <th></th>\n",
       "      <th></th>\n",
       "      <th></th>\n",
       "      <th></th>\n",
       "      <th></th>\n",
       "      <th></th>\n",
       "      <th></th>\n",
       "      <th></th>\n",
       "      <th></th>\n",
       "      <th></th>\n",
       "      <th></th>\n",
       "    </tr>\n",
       "  </thead>\n",
       "  <tbody>\n",
       "    <tr>\n",
       "      <th>0</th>\n",
       "      <td>1430198770</td>\n",
       "      <td>7</td>\n",
       "      <td>11</td>\n",
       "      <td>5</td>\n",
       "      <td>2098</td>\n",
       "      <td>1489</td>\n",
       "      <td>20</td>\n",
       "      <td>0</td>\n",
       "      <td>0</td>\n",
       "      <td>7</td>\n",
       "      <td>...</td>\n",
       "      <td>4</td>\n",
       "      <td>2</td>\n",
       "      <td>2</td>\n",
       "      <td>-52</td>\n",
       "      <td>2874</td>\n",
       "      <td>1</td>\n",
       "      <td>1796</td>\n",
       "      <td>0</td>\n",
       "      <td>51</td>\n",
       "      <td>0</td>\n",
       "    </tr>\n",
       "    <tr>\n",
       "      <th>1</th>\n",
       "      <td>1430220345</td>\n",
       "      <td>0</td>\n",
       "      <td>42</td>\n",
       "      <td>4</td>\n",
       "      <td>1188</td>\n",
       "      <td>1033</td>\n",
       "      <td>9</td>\n",
       "      <td>0</td>\n",
       "      <td>1</td>\n",
       "      <td>12</td>\n",
       "      <td>...</td>\n",
       "      <td>4</td>\n",
       "      <td>3</td>\n",
       "      <td>1</td>\n",
       "      <td>-5</td>\n",
       "      <td>2463</td>\n",
       "      <td>1</td>\n",
       "      <td>1974</td>\n",
       "      <td>0</td>\n",
       "      <td>63</td>\n",
       "      <td>1</td>\n",
       "    </tr>\n",
       "    <tr>\n",
       "      <th>2</th>\n",
       "      <td>1430227081</td>\n",
       "      <td>7</td>\n",
       "      <td>33</td>\n",
       "      <td>4</td>\n",
       "      <td>1319</td>\n",
       "      <td>1270</td>\n",
       "      <td>22</td>\n",
       "      <td>0</td>\n",
       "      <td>0</td>\n",
       "      <td>12</td>\n",
       "      <td>...</td>\n",
       "      <td>4</td>\n",
       "      <td>3</td>\n",
       "      <td>1</td>\n",
       "      <td>13</td>\n",
       "      <td>2130</td>\n",
       "      <td>0</td>\n",
       "      <td>0</td>\n",
       "      <td>1830</td>\n",
       "      <td>0</td>\n",
       "      <td>63</td>\n",
       "    </tr>\n",
       "    <tr>\n",
       "      <th>3</th>\n",
       "      <td>1430263531</td>\n",
       "      <td>1</td>\n",
       "      <td>29</td>\n",
       "      <td>4</td>\n",
       "      <td>1779</td>\n",
       "      <td>1056</td>\n",
       "      <td>14</td>\n",
       "      <td>0</td>\n",
       "      <td>0</td>\n",
       "      <td>5</td>\n",
       "      <td>...</td>\n",
       "      <td>4</td>\n",
       "      <td>2</td>\n",
       "      <td>0</td>\n",
       "      <td>27</td>\n",
       "      <td>1459</td>\n",
       "      <td>0</td>\n",
       "      <td>1920</td>\n",
       "      <td>2047</td>\n",
       "      <td>50</td>\n",
       "      <td>63</td>\n",
       "    </tr>\n",
       "    <tr>\n",
       "      <th>4</th>\n",
       "      <td>1430282290</td>\n",
       "      <td>7</td>\n",
       "      <td>13</td>\n",
       "      <td>4</td>\n",
       "      <td>1431</td>\n",
       "      <td>1090</td>\n",
       "      <td>8</td>\n",
       "      <td>1</td>\n",
       "      <td>0</td>\n",
       "      <td>8</td>\n",
       "      <td>...</td>\n",
       "      <td>3</td>\n",
       "      <td>3</td>\n",
       "      <td>0</td>\n",
       "      <td>-16</td>\n",
       "      <td>2449</td>\n",
       "      <td>0</td>\n",
       "      <td>4</td>\n",
       "      <td>1974</td>\n",
       "      <td>3</td>\n",
       "      <td>63</td>\n",
       "    </tr>\n",
       "  </tbody>\n",
       "</table>\n",
       "<p>5 rows × 108 columns</p>\n",
       "</div>"
      ],
      "text/plain": [
       "          start_time  lobby_type  r1_hero  r1_level  r1_xp  r1_gold  r1_lh  \\\n",
       "match_id                                                                     \n",
       "0         1430198770           7       11         5   2098     1489     20   \n",
       "1         1430220345           0       42         4   1188     1033      9   \n",
       "2         1430227081           7       33         4   1319     1270     22   \n",
       "3         1430263531           1       29         4   1779     1056     14   \n",
       "4         1430282290           7       13         4   1431     1090      8   \n",
       "\n",
       "          r1_kills  r1_deaths  r1_items          ...           \\\n",
       "match_id                                         ...            \n",
       "0                0          0         7          ...            \n",
       "1                0          1        12          ...            \n",
       "2                0          0        12          ...            \n",
       "3                0          0         5          ...            \n",
       "4                1          0         8          ...            \n",
       "\n",
       "          dire_boots_count  dire_ward_observer_count  dire_ward_sentry_count  \\\n",
       "match_id                                                                       \n",
       "0                        4                         2                       2   \n",
       "1                        4                         3                       1   \n",
       "2                        4                         3                       1   \n",
       "3                        4                         2                       0   \n",
       "4                        3                         3                       0   \n",
       "\n",
       "          dire_first_ward_time  duration  radiant_win  tower_status_radiant  \\\n",
       "match_id                                                                      \n",
       "0                          -52      2874            1                  1796   \n",
       "1                           -5      2463            1                  1974   \n",
       "2                           13      2130            0                     0   \n",
       "3                           27      1459            0                  1920   \n",
       "4                          -16      2449            0                     4   \n",
       "\n",
       "          tower_status_dire  barracks_status_radiant  barracks_status_dire  \n",
       "match_id                                                                    \n",
       "0                         0                       51                     0  \n",
       "1                         0                       63                     1  \n",
       "2                      1830                        0                    63  \n",
       "3                      2047                       50                    63  \n",
       "4                      1974                        3                    63  \n",
       "\n",
       "[5 rows x 108 columns]"
      ]
     },
     "execution_count": 26,
     "metadata": {},
     "output_type": "execute_result"
    }
   ],
   "source": [
    "data = pd.read_csv('./features.csv', index_col='match_id')\n",
    "\n",
    "data.head()"
   ]
  },
  {
   "cell_type": "markdown",
   "metadata": {},
   "source": [
    "#### Описание признаков в таблице\n",
    "\n",
    "- `match_id`: идентификатор матча в наборе данных\n",
    "- `start_time`: время начала матча (unixtime)\n",
    "- `lobby_type`: тип комнаты, в которой собираются игроки (расшифровка в `dictionaries/lobbies.csv`)\n",
    "- Наборы признаков для каждого игрока (игроки команды Radiant — префикс `rN`, Dire — `dN`):\n",
    "    - `r1_hero`: герой игрока (расшифровка в dictionaries/heroes.csv)\n",
    "    - `r1_level`: максимальный достигнутый уровень героя (за первые 5 игровых минут)\n",
    "    - `r1_xp`: максимальный полученный опыт\n",
    "    - `r1_gold`: достигнутая ценность героя\n",
    "    - `r1_lh`: число убитых юнитов\n",
    "    - `r1_kills`: число убитых игроков\n",
    "    - `r1_deaths`: число смертей героя\n",
    "    - `r1_items`: число купленных предметов\n",
    "- Признаки события \"первая кровь\" (first blood). Если событие \"первая кровь\" не успело произойти за первые 5 минут, то признаки принимают пропущенное значение\n",
    "    - `first_blood_time`: игровое время первой крови\n",
    "    - `first_blood_team`: команда, совершившая первую кровь (0 — Radiant, 1 — Dire)\n",
    "    - `first_blood_player1`: игрок, причастный к событию\n",
    "    - `first_blood_player2`: второй игрок, причастный к событию\n",
    "- Признаки для каждой команды (префиксы `radiant_` и `dire_`)\n",
    "    - `radiant_bottle_time`: время первого приобретения командой предмета \"bottle\"\n",
    "    - `radiant_courier_time`: время приобретения предмета \"courier\" \n",
    "    - `radiant_flying_courier_time`: время приобретения предмета \"flying_courier\" \n",
    "    - `radiant_tpscroll_count`: число предметов \"tpscroll\" за первые 5 минут\n",
    "    - `radiant_boots_count`: число предметов \"boots\"\n",
    "    - `radiant_ward_observer_count`: число предметов \"ward_observer\"\n",
    "    - `radiant_ward_sentry_count`: число предметов \"ward_sentry\"\n",
    "    - `radiant_first_ward_time`: время установки командой первого \"наблюдателя\", т.е. предмета, который позволяет видеть часть игрового поля\n",
    "- Итог матча (данные поля отсутствуют в тестовой выборке, поскольку содержат информацию, выходящую за пределы первых 5 минут матча)\n",
    "    - `duration`: длительность\n",
    "    - `radiant_win`: 1, если победила команда Radiant, 0 — иначе\n",
    "    - Состояние башен и барраков к концу матча (см. описание полей набора данных)\n",
    "        - `tower_status_radiant`\n",
    "        - `tower_status_dire`\n",
    "        - `barracks_status_radiant`\n",
    "        - `barracks_status_dire`"
   ]
  },
  {
   "cell_type": "markdown",
   "metadata": {},
   "source": [
    "# Признаки каждой команды"
   ]
  },
  {
   "cell_type": "code",
   "execution_count": 9,
   "metadata": {
    "collapsed": false
   },
   "outputs": [],
   "source": [
    "def get_command_feature(data):\n",
    "    features_time = [u'radiant_bottle_time', u'radiant_courier_time', u'radiant_flying_courier_time', \n",
    "                    u'radiant_first_ward_time', u'dire_bottle_time', u'dire_courier_time', \n",
    "                    u'dire_flying_courier_time', u'dire_first_ward_time']\n",
    "    features_count = [u'radiant_tpscroll_count', u'radiant_boots_count', u'radiant_ward_observer_count',\n",
    "                     u'radiant_ward_sentry_count',  u'dire_tpscroll_count', u'dire_boots_count',\n",
    "                     u'dire_ward_observer_count', u'dire_ward_sentry_count']\n",
    "    command_data = data[features_time + features_count]\n",
    "    command_data[features_time] = command_data[features_time].fillna(command_data[features_time].max())\n",
    "    command_data[features_count] = command_data[features_count].fillna(command_data[features_count].min())\n",
    "    \n",
    "    return command_data"
   ]
  },
  {
   "cell_type": "markdown",
   "metadata": {},
   "source": [
    "# Признаки первой крови"
   ]
  },
  {
   "cell_type": "code",
   "execution_count": 10,
   "metadata": {
    "collapsed": true
   },
   "outputs": [],
   "source": [
    "def get_firstBlood_feature(data):\n",
    "    blood_data = data['first_blood_team'] \n",
    "    return blood_data.fillna(0.5)"
   ]
  },
  {
   "cell_type": "markdown",
   "metadata": {},
   "source": [
    "# Выделяем признаки каждого героя"
   ]
  },
  {
   "cell_type": "code",
   "execution_count": 11,
   "metadata": {
    "collapsed": true
   },
   "outputs": [],
   "source": [
    "def get_hero_features(data):\n",
    "    hero_features = []\n",
    "\n",
    "    for i in range(1, 6):\n",
    "        hero_features.append('r' + str(i) + '_xp')\n",
    "        hero_features.append('r' + str(i) + '_gold')\n",
    "        hero_features.append('r' + str(i) + '_lh')\n",
    "        hero_features.append('r' + str(i) + '_kills')\n",
    "        hero_features.append('r' + str(i) + '_deaths')\n",
    "        hero_features.append('r' + str(i) + '_items')\n",
    "    \n",
    "    for i in range(1, 6):\n",
    "        hero_features.append('d' + str(i) + '_xp')\n",
    "        hero_features.append('d' + str(i) + '_gold')\n",
    "        hero_features.append('d' + str(i) + '_lh')\n",
    "        hero_features.append('d' + str(i) + '_kills')\n",
    "        hero_features.append('d' + str(i) + '_deaths')\n",
    "        hero_features.append('d' + str(i) + '_items')\n",
    "\n",
    "    hero_data = data[hero_features]\n",
    "    return hero_data"
   ]
  },
  {
   "cell_type": "markdown",
   "metadata": {},
   "source": [
    "# Разность ризнаков"
   ]
  },
  {
   "cell_type": "code",
   "execution_count": 12,
   "metadata": {
    "collapsed": true
   },
   "outputs": [],
   "source": [
    "def get_subfeatures(X):\n",
    "    num_columns = int(len(X.columns) / 2)\n",
    "    r_features = X.columns[:num_columns]\n",
    "    d_features = X.columns[num_columns:]\n",
    "    return X[r_features].values - X[d_features].values"
   ]
  },
  {
   "cell_type": "markdown",
   "metadata": {},
   "source": [
    "# Имена героев"
   ]
  },
  {
   "cell_type": "code",
   "execution_count": 13,
   "metadata": {
    "collapsed": false
   },
   "outputs": [],
   "source": [
    "def get_heroNames_features(data):\n",
    "    hero_feature_names = []\n",
    "\n",
    "    for i in range(1, 6):\n",
    "        hero_feature_names.append('r' + str(i) + '_hero')\n",
    "    for i in range(1, 6):\n",
    "        hero_feature_names.append('d' + str(i) + '_hero')\n",
    "\n",
    "    hero_name_data = data[hero_feature_names]\n",
    "\n",
    "    return hero_name_data"
   ]
  },
  {
   "cell_type": "markdown",
   "metadata": {},
   "source": [
    "# Вычисление точности"
   ]
  },
  {
   "cell_type": "code",
   "execution_count": 14,
   "metadata": {
    "collapsed": false
   },
   "outputs": [],
   "source": [
    "def get_scores(X_train, X_test, y_train, y_test, clf):\n",
    "    clf.fit(X_train, y_train)\n",
    "    scores = clf.predict_proba(X_test)[:, 1]\n",
    "    print ('Score: ', roc_auc_score(y_test, scores))\n",
    "    return scores, roc_auc_score(y_test, scores)"
   ]
  },
  {
   "cell_type": "markdown",
   "metadata": {},
   "source": [
    "# StandartScaler"
   ]
  },
  {
   "cell_type": "code",
   "execution_count": 15,
   "metadata": {
    "collapsed": true
   },
   "outputs": [],
   "source": [
    "def get_scaling_data(X_train, X_test):\n",
    "    scaler = StandardScaler()\n",
    "    train_scaler = scaler.fit_transform(X_train)\n",
    "    test_scaler = scaler.transform(X_test)\n",
    "    return train_scaler, test_scaler"
   ]
  },
  {
   "cell_type": "markdown",
   "metadata": {},
   "source": [
    "# OneHotEncoder"
   ]
  },
  {
   "cell_type": "code",
   "execution_count": 16,
   "metadata": {
    "collapsed": false,
    "scrolled": false
   },
   "outputs": [],
   "source": [
    "def get_OneHot(X_train, X_test):\n",
    "    enc = OneHotEncoder()\n",
    "    enc_train = enc.fit_transform(X_train)\n",
    "    enc_test = enc.transform(X_test)\n",
    "    return enc_train, enc_test"
   ]
  },
  {
   "cell_type": "markdown",
   "metadata": {},
   "source": [
    "# Мешок слов над уровнями героев"
   ]
  },
  {
   "cell_type": "code",
   "execution_count": 17,
   "metadata": {
    "collapsed": true
   },
   "outputs": [],
   "source": [
    "def get_BagLevels(X):\n",
    "    R_pick, D_pick = np.zeros((X.shape[0], 8)), np.zeros((X.shape[0], 8))\n",
    "    for i, match_id in enumerate(X.index):\n",
    "        for p in range(5):\n",
    "            R_pick[i, X.ix[match_id, 'r%d_level' % (p+1)]] += 1\n",
    "            D_pick[i, X.ix[match_id, 'd%d_level' % (p+1)]] += -1\n",
    "    return R_pick + D_pick"
   ]
  },
  {
   "cell_type": "markdown",
   "metadata": {},
   "source": [
    "# Мешок слов над именами героев"
   ]
  },
  {
   "cell_type": "code",
   "execution_count": 18,
   "metadata": {
    "collapsed": true
   },
   "outputs": [],
   "source": [
    "def get_BagHeroes(X):\n",
    "    X_pick = np.zeros((X.shape[0], 112))\n",
    "    for i, match_id in enumerate(X.index):\n",
    "        for p in range(5):\n",
    "            X_pick[i, X.ix[match_id, 'r%d_hero' % (p+1)]-1] = 1\n",
    "            X_pick[i, X.ix[match_id, 'd%d_hero' % (p+1)]-1] = -1\n",
    "    return X_pick"
   ]
  },
  {
   "cell_type": "markdown",
   "metadata": {},
   "source": [
    "# Синергия и антисинергия"
   ]
  },
  {
   "cell_type": "code",
   "execution_count": 19,
   "metadata": {
    "collapsed": false
   },
   "outputs": [],
   "source": [
    "def calc_rating(data):\n",
    "    N = 113 # heroes\n",
    "    # calculate each hero-pair synergy and antisynergy\n",
    "    synergy = np.zeros((N,N))     # sum of wins in matches played together\n",
    "    antisynergy = np.zeros((N,N)) # sum of wins when played against\n",
    "    matchcounts = np.zeros((N,N)) # count of matches played together\n",
    "    matchcounta = np.zeros((N,N)) # count of matches played against\n",
    "    \n",
    "    for match_counter, match_id in enumerate(data.index):\n",
    "        #synergy when both heroes in win team\n",
    "        winteam = 'r' if data.ix[match_id, 'radiant_win'] == 1 else 'd'\n",
    "        looseteam = 'd' if winteam =='r' else 'r'\n",
    "        pind     = [0] * 5 #player indexes    \n",
    "        antipind = [0] * 5 # looser indicies\n",
    "        # get indexes of players in each tem\n",
    "        for i in range(5):\n",
    "            pind[i] = data.ix[match_id, winteam + '%d_hero'%(i + 1)] - 1\n",
    "        for i in range(5):\n",
    "            antipind[i] = data.ix[match_id, looseteam + '%d_hero'%(i + 1)] - 1\n",
    "        # accumulate synergy of pairs\n",
    "        for i in range(5):\n",
    "            for j in range(i + 1, 5):\n",
    "                synergy[pind[i], pind[j]] += 1\n",
    "                synergy[pind[j], pind[i]] += 1\n",
    "        # accumulate match counter for playing together\n",
    "        for i in range(5):\n",
    "            for j in range(5):\n",
    "                matchcounts[pind[i], pind[j]] +=1 #together and win\n",
    "                matchcounts[antipind[i], antipind[j]] +=1 # together and loose\n",
    "                \n",
    "        #antisynergy when hero i in winteam while hero j in loose team\n",
    "        for i in range(5):\n",
    "            for j in range(5):\n",
    "                antisynergy[pind[i], antipind[j]] += 1\n",
    "                matchcounta[pind[i], antipind[j]] += 1\n",
    "                matchcounta[antipind[j], pind[i]] += 1\n",
    "    \n",
    "        if match_counter % 10000 == 0:\n",
    "            print 'rating preprocessing %d' %match_counter\n",
    "        \n",
    "    # normalize\n",
    "    synergyrate = np.zeros((N,N))\n",
    "    antisynergyrate = np.zeros((N,N))\n",
    "    synergyrate = (synergy + 1) / (matchcounts + 2) \n",
    "    antisynergyrate = (antisynergy + 1) / (matchcounta + 2)\n",
    "    \n",
    "    return synergyrate, antisynergyrate\n",
    "    \n",
    "    \n",
    "# calculate aggreagtes synergy and antisyn    \n",
    "def get_syn(data, synergyrate, antisynergyrate):\n",
    "    syn = np.zeros(len(data))\n",
    "    antisyn = np.zeros(len(data))\n",
    "    for match_counter, match_id in enumerate(data.index):\n",
    "        rind = [0] * 5 #radiant indicies    \n",
    "        dind = [0] * 5 # dire indicies\n",
    "        # get indexes of players in each team\n",
    "        for i in range(5):\n",
    "            rind[i] = data.ix[match_id, 'r%d_hero'%(i+1)]-1\n",
    "        for i in range(5):\n",
    "            dind[i] = data.ix[match_id, 'd%d_hero'%(i+1)]-1\n",
    "        # accumulate synergy of radiants minus synergy of dires\n",
    "        # + radiants synergy\n",
    "        for i in range(5):\n",
    "            for j in range(i + 1,5):\n",
    "                syn[match_counter] += synergyrate[rind[i], rind[j]]\n",
    "        # - dire synergy\n",
    "        for i in range(5):\n",
    "            for j in range(i + 1,5):\n",
    "                syn[match_counter] -= synergyrate[dind[i], dind[j]]\n",
    "        # accumulate antisynergy\n",
    "        for i in range(5):\n",
    "            for j in range(5):\n",
    "                antisyn[match_counter] += antisynergyrate[rind[i], dind[j]] \n",
    "    return syn, antisyn\n",
    "\n",
    "# исключаем финишные признаки, формируем матрицу признаков x и вектор классов y\n"
   ]
  },
  {
   "cell_type": "markdown",
   "metadata": {},
   "source": [
    "# Подсчет синергии и антисинергии через фолдинг "
   ]
  },
  {
   "cell_type": "code",
   "execution_count": 20,
   "metadata": {
    "collapsed": false
   },
   "outputs": [],
   "source": [
    "def count_syn(X, is_test=False, sum_syn=np.zeros((113, 113)), sum_antisyn=np.zeros((113, 113))):\n",
    "    n_folds=7\n",
    "    i = 0\n",
    "    S = np.zeros((X.shape[0], 2))\n",
    "    if is_test == False:        \n",
    "        cv = KFold(X.shape[0], n_folds=n_folds, shuffle=True, random_state=241)\n",
    "        for train, test in cv:\n",
    "            print i\n",
    "            i = i + 1\n",
    "            synergyrate, antisynergyrate = calc_rating(X.iloc[train])\n",
    "            sum_syn += synergyrate\n",
    "            sum_antisyn += antisynergyrate\n",
    "            S[test, 0], S[test, 1] = get_syn(X.iloc[test], synergyrate, antisynergyrate)    \n",
    "        sum_syn /= n_folds\n",
    "        sum_antisyn /= n_folds\n",
    "    else:\n",
    "        S[:, 0], S[:, 1] = get_syn(X, sum_syn, sum_antisyn)\n",
    "        \n",
    "    return S, sum_syn, sum_antisyn"
   ]
  },
  {
   "cell_type": "markdown",
   "metadata": {},
   "source": [
    "# Сортировка количественных признаков каждой команды"
   ]
  },
  {
   "cell_type": "code",
   "execution_count": 21,
   "metadata": {
    "collapsed": true
   },
   "outputs": [],
   "source": [
    "def get_sort_heroes_feature(hero_feature, w):\n",
    "    xp_features = []\n",
    "    gold_features = []\n",
    "    lh_features = []\n",
    "    kills_features = []\n",
    "    deaths_features = []\n",
    "    items_features = []\n",
    "\n",
    "    for i in range(1, 6):\n",
    "            xp_features.append(w + str(i) + '_xp')\n",
    "            gold_features.append(w + str(i) + '_gold')\n",
    "            lh_features.append(w + str(i) + '_lh')\n",
    "            kills_features.append(w + str(i) + '_kills')\n",
    "            deaths_features.append(w + str(i) + '_deaths')\n",
    "            items_features.append(w + str(i) + '_items')\n",
    "\n",
    "    xp = hero_feature[xp_features]\n",
    "    gold = hero_feature[gold_features]\n",
    "    lh = hero_feature[lh_features]\n",
    "    kills = hero_feature[kills_features]\n",
    "    deaths = hero_feature[deaths_features]\n",
    "    items = hero_feature[items_features]\n",
    "    \n",
    "    df_xp = pd.DataFrame(np.sort(xp, axis=1))\n",
    "    df_gold = pd.DataFrame(np.sort(gold, axis=1))\n",
    "    df_lh = pd.DataFrame(np.sort(lh, axis=1))\n",
    "    df_kills = pd.DataFrame(np.sort(kills, axis=1))\n",
    "    df_deaths = pd.DataFrame(np.sort(deaths, axis=1))\n",
    "    df_items = pd.DataFrame(np.sort(items, axis=1))\n",
    "    \n",
    "    return pd.concat([df_xp, df_gold, df_lh, df_kills, df_deaths, df_items], axis=1)"
   ]
  },
  {
   "cell_type": "markdown",
   "metadata": {},
   "source": [
    "# Извлечение всех признаков"
   ]
  },
  {
   "cell_type": "code",
   "execution_count": 24,
   "metadata": {
    "collapsed": true
   },
   "outputs": [],
   "source": [
    "def get_features(data):\n",
    "    command_feature = get_subfeatures(get_command_feature(data))\n",
    "    heroNames_feature = get_heroNames_features(data)\n",
    "    hero_feature = get_hero_features(data)\n",
    "    r_heroes_feature = get_sort_heroes_feature(hero_feature, 'r')\n",
    "    d_heroes_feature = get_sort_heroes_feature(hero_feature, 'd')\n",
    "    heroes_feature = r_heroes_feature - d_heroes_feature\n",
    "    bag_features = get_BagHeroes(heroNames_feature)\n",
    "    num_features = np.concatenate((command_feature, heroes_feature), axis=1)\n",
    "    blood_feature = get_firstBlood_feature(data).reshape(-1, 1)\n",
    "    lobby_features = data['lobby_type'].reshape(-1, 1)\n",
    "    level_features = get_BagLevels(data)\n",
    "    return num_features, bag_features, blood_feature, lobby_features, level_features"
   ]
  },
  {
   "cell_type": "markdown",
   "metadata": {},
   "source": [
    "# Объединение всех признаков"
   ]
  },
  {
   "cell_type": "code",
   "execution_count": 29,
   "metadata": {
    "collapsed": true
   },
   "outputs": [],
   "source": [
    "def get_data(num_features, bag_features, blood_features, lobby_features, level_features, syn_features):\n",
    "    enc = OneHotEncoder()\n",
    "    enc_lobby = enc.fit_transform(lobby_features).toarray()\n",
    "    \n",
    "    scaler = StandardScaler()\n",
    "    sc_num = scaler.fit_transform(np.concatenate((num_features, syn_features, blood_features), axis=1))\n",
    "    \n",
    "    data = np.concatenate((sc_num, bag_features, enc_lobby, level_features), axis=1)\n",
    "    return data"
   ]
  },
  {
   "cell_type": "code",
   "execution_count": 27,
   "metadata": {
    "collapsed": true
   },
   "outputs": [
    {
     "name": "stderr",
     "output_type": "stream",
     "text": [
      "/home/amiras/anaconda2/lib/python2.7/site-packages/pandas/core/frame.py:2320: SettingWithCopyWarning: \n",
      "A value is trying to be set on a copy of a slice from a DataFrame.\n",
      "Try using .loc[row_indexer,col_indexer] = value instead\n",
      "\n",
      "See the caveats in the documentation: http://pandas.pydata.org/pandas-docs/stable/indexing.html#indexing-view-versus-copy\n",
      "  self[k1] = value[k2]\n"
     ]
    }
   ],
   "source": [
    "targets = data['radiant_win'].values\n",
    "num_features, bag_features, blood_features, lobby_features, level_features = get_features(data)"
   ]
  },
  {
   "cell_type": "code",
   "execution_count": 28,
   "metadata": {
    "collapsed": false
   },
   "outputs": [
    {
     "name": "stdout",
     "output_type": "stream",
     "text": [
      "0\n",
      "rating preprocessing 0\n",
      "rating preprocessing 10000\n",
      "rating preprocessing 20000\n",
      "rating preprocessing 30000\n",
      "rating preprocessing 40000\n",
      "rating preprocessing 50000\n",
      "rating preprocessing 60000\n",
      "rating preprocessing 70000\n",
      "rating preprocessing 80000\n",
      "1\n",
      "rating preprocessing 0\n",
      "rating preprocessing 10000\n",
      "rating preprocessing 20000\n",
      "rating preprocessing 30000\n",
      "rating preprocessing 40000\n",
      "rating preprocessing 50000\n",
      "rating preprocessing 60000\n",
      "rating preprocessing 70000\n",
      "rating preprocessing 80000\n",
      "2\n",
      "rating preprocessing 0\n",
      "rating preprocessing 10000\n",
      "rating preprocessing 20000\n",
      "rating preprocessing 30000\n",
      "rating preprocessing 40000\n",
      "rating preprocessing 50000\n",
      "rating preprocessing 60000\n",
      "rating preprocessing 70000\n",
      "rating preprocessing 80000\n",
      "3\n",
      "rating preprocessing 0\n",
      "rating preprocessing 10000\n",
      "rating preprocessing 20000\n",
      "rating preprocessing 30000\n",
      "rating preprocessing 40000\n",
      "rating preprocessing 50000\n",
      "rating preprocessing 60000\n",
      "rating preprocessing 70000\n",
      "rating preprocessing 80000\n",
      "4\n",
      "rating preprocessing 0\n",
      "rating preprocessing 10000\n",
      "rating preprocessing 20000\n",
      "rating preprocessing 30000\n",
      "rating preprocessing 40000\n",
      "rating preprocessing 50000\n",
      "rating preprocessing 60000\n",
      "rating preprocessing 70000\n",
      "rating preprocessing 80000\n",
      "5\n",
      "rating preprocessing 0\n",
      "rating preprocessing 10000\n",
      "rating preprocessing 20000\n",
      "rating preprocessing 30000\n",
      "rating preprocessing 40000\n",
      "rating preprocessing 50000\n",
      "rating preprocessing 60000\n",
      "rating preprocessing 70000\n",
      "rating preprocessing 80000\n",
      "6\n",
      "rating preprocessing 0\n",
      "rating preprocessing 10000\n",
      "rating preprocessing 20000\n",
      "rating preprocessing 30000\n",
      "rating preprocessing 40000\n",
      "rating preprocessing 50000\n",
      "rating preprocessing 60000\n",
      "rating preprocessing 70000\n",
      "rating preprocessing 80000\n"
     ]
    }
   ],
   "source": [
    "syn_features, sum_syn, sum_antisyn = count_syn(data)"
   ]
  },
  {
   "cell_type": "code",
   "execution_count": 30,
   "metadata": {
    "collapsed": false
   },
   "outputs": [],
   "source": [
    "X_train = get_data(num_features, bag_features, blood_features, \n",
    "                   lobby_features, level_features, syn_features)"
   ]
  },
  {
   "cell_type": "markdown",
   "metadata": {},
   "source": [
    "# Тестовые выборка"
   ]
  },
  {
   "cell_type": "code",
   "execution_count": 31,
   "metadata": {
    "collapsed": false,
    "scrolled": true
   },
   "outputs": [
    {
     "data": {
      "text/html": [
       "<div>\n",
       "<table border=\"1\" class=\"dataframe\">\n",
       "  <thead>\n",
       "    <tr style=\"text-align: right;\">\n",
       "      <th></th>\n",
       "      <th>start_time</th>\n",
       "      <th>lobby_type</th>\n",
       "      <th>r1_hero</th>\n",
       "      <th>r1_level</th>\n",
       "      <th>r1_xp</th>\n",
       "      <th>r1_gold</th>\n",
       "      <th>r1_lh</th>\n",
       "      <th>r1_kills</th>\n",
       "      <th>r1_deaths</th>\n",
       "      <th>r1_items</th>\n",
       "      <th>...</th>\n",
       "      <th>radiant_ward_sentry_count</th>\n",
       "      <th>radiant_first_ward_time</th>\n",
       "      <th>dire_bottle_time</th>\n",
       "      <th>dire_courier_time</th>\n",
       "      <th>dire_flying_courier_time</th>\n",
       "      <th>dire_tpscroll_count</th>\n",
       "      <th>dire_boots_count</th>\n",
       "      <th>dire_ward_observer_count</th>\n",
       "      <th>dire_ward_sentry_count</th>\n",
       "      <th>dire_first_ward_time</th>\n",
       "    </tr>\n",
       "    <tr>\n",
       "      <th>match_id</th>\n",
       "      <th></th>\n",
       "      <th></th>\n",
       "      <th></th>\n",
       "      <th></th>\n",
       "      <th></th>\n",
       "      <th></th>\n",
       "      <th></th>\n",
       "      <th></th>\n",
       "      <th></th>\n",
       "      <th></th>\n",
       "      <th></th>\n",
       "      <th></th>\n",
       "      <th></th>\n",
       "      <th></th>\n",
       "      <th></th>\n",
       "      <th></th>\n",
       "      <th></th>\n",
       "      <th></th>\n",
       "      <th></th>\n",
       "      <th></th>\n",
       "      <th></th>\n",
       "    </tr>\n",
       "  </thead>\n",
       "  <tbody>\n",
       "    <tr>\n",
       "      <th>6</th>\n",
       "      <td>1430287923</td>\n",
       "      <td>0</td>\n",
       "      <td>93</td>\n",
       "      <td>4</td>\n",
       "      <td>1103</td>\n",
       "      <td>1089</td>\n",
       "      <td>8</td>\n",
       "      <td>0</td>\n",
       "      <td>1</td>\n",
       "      <td>9</td>\n",
       "      <td>...</td>\n",
       "      <td>0</td>\n",
       "      <td>12</td>\n",
       "      <td>247</td>\n",
       "      <td>-86</td>\n",
       "      <td>272</td>\n",
       "      <td>3</td>\n",
       "      <td>4</td>\n",
       "      <td>2</td>\n",
       "      <td>0</td>\n",
       "      <td>118</td>\n",
       "    </tr>\n",
       "    <tr>\n",
       "      <th>7</th>\n",
       "      <td>1430293357</td>\n",
       "      <td>1</td>\n",
       "      <td>20</td>\n",
       "      <td>2</td>\n",
       "      <td>556</td>\n",
       "      <td>570</td>\n",
       "      <td>1</td>\n",
       "      <td>0</td>\n",
       "      <td>0</td>\n",
       "      <td>9</td>\n",
       "      <td>...</td>\n",
       "      <td>2</td>\n",
       "      <td>-29</td>\n",
       "      <td>168</td>\n",
       "      <td>-54</td>\n",
       "      <td>NaN</td>\n",
       "      <td>3</td>\n",
       "      <td>2</td>\n",
       "      <td>2</td>\n",
       "      <td>1</td>\n",
       "      <td>16</td>\n",
       "    </tr>\n",
       "    <tr>\n",
       "      <th>10</th>\n",
       "      <td>1430301774</td>\n",
       "      <td>1</td>\n",
       "      <td>112</td>\n",
       "      <td>2</td>\n",
       "      <td>751</td>\n",
       "      <td>808</td>\n",
       "      <td>1</td>\n",
       "      <td>0</td>\n",
       "      <td>0</td>\n",
       "      <td>13</td>\n",
       "      <td>...</td>\n",
       "      <td>1</td>\n",
       "      <td>-22</td>\n",
       "      <td>46</td>\n",
       "      <td>-87</td>\n",
       "      <td>186</td>\n",
       "      <td>1</td>\n",
       "      <td>3</td>\n",
       "      <td>3</td>\n",
       "      <td>0</td>\n",
       "      <td>-34</td>\n",
       "    </tr>\n",
       "    <tr>\n",
       "      <th>13</th>\n",
       "      <td>1430323933</td>\n",
       "      <td>1</td>\n",
       "      <td>27</td>\n",
       "      <td>3</td>\n",
       "      <td>708</td>\n",
       "      <td>903</td>\n",
       "      <td>1</td>\n",
       "      <td>1</td>\n",
       "      <td>1</td>\n",
       "      <td>11</td>\n",
       "      <td>...</td>\n",
       "      <td>2</td>\n",
       "      <td>-49</td>\n",
       "      <td>30</td>\n",
       "      <td>-89</td>\n",
       "      <td>210</td>\n",
       "      <td>3</td>\n",
       "      <td>4</td>\n",
       "      <td>2</td>\n",
       "      <td>1</td>\n",
       "      <td>-26</td>\n",
       "    </tr>\n",
       "    <tr>\n",
       "      <th>16</th>\n",
       "      <td>1430331112</td>\n",
       "      <td>1</td>\n",
       "      <td>39</td>\n",
       "      <td>4</td>\n",
       "      <td>1259</td>\n",
       "      <td>661</td>\n",
       "      <td>4</td>\n",
       "      <td>0</td>\n",
       "      <td>0</td>\n",
       "      <td>9</td>\n",
       "      <td>...</td>\n",
       "      <td>0</td>\n",
       "      <td>36</td>\n",
       "      <td>180</td>\n",
       "      <td>-86</td>\n",
       "      <td>180</td>\n",
       "      <td>1</td>\n",
       "      <td>3</td>\n",
       "      <td>2</td>\n",
       "      <td>1</td>\n",
       "      <td>-33</td>\n",
       "    </tr>\n",
       "  </tbody>\n",
       "</table>\n",
       "<p>5 rows × 102 columns</p>\n",
       "</div>"
      ],
      "text/plain": [
       "          start_time  lobby_type  r1_hero  r1_level  r1_xp  r1_gold  r1_lh  \\\n",
       "match_id                                                                     \n",
       "6         1430287923           0       93         4   1103     1089      8   \n",
       "7         1430293357           1       20         2    556      570      1   \n",
       "10        1430301774           1      112         2    751      808      1   \n",
       "13        1430323933           1       27         3    708      903      1   \n",
       "16        1430331112           1       39         4   1259      661      4   \n",
       "\n",
       "          r1_kills  r1_deaths  r1_items          ...           \\\n",
       "match_id                                         ...            \n",
       "6                0          1         9          ...            \n",
       "7                0          0         9          ...            \n",
       "10               0          0        13          ...            \n",
       "13               1          1        11          ...            \n",
       "16               0          0         9          ...            \n",
       "\n",
       "          radiant_ward_sentry_count  radiant_first_ward_time  \\\n",
       "match_id                                                       \n",
       "6                                 0                       12   \n",
       "7                                 2                      -29   \n",
       "10                                1                      -22   \n",
       "13                                2                      -49   \n",
       "16                                0                       36   \n",
       "\n",
       "          dire_bottle_time  dire_courier_time  dire_flying_courier_time  \\\n",
       "match_id                                                                  \n",
       "6                      247                -86                       272   \n",
       "7                      168                -54                       NaN   \n",
       "10                      46                -87                       186   \n",
       "13                      30                -89                       210   \n",
       "16                     180                -86                       180   \n",
       "\n",
       "          dire_tpscroll_count  dire_boots_count  dire_ward_observer_count  \\\n",
       "match_id                                                                    \n",
       "6                           3                 4                         2   \n",
       "7                           3                 2                         2   \n",
       "10                          1                 3                         3   \n",
       "13                          3                 4                         2   \n",
       "16                          1                 3                         2   \n",
       "\n",
       "          dire_ward_sentry_count  dire_first_ward_time  \n",
       "match_id                                                \n",
       "6                              0                   118  \n",
       "7                              1                    16  \n",
       "10                             0                   -34  \n",
       "13                             1                   -26  \n",
       "16                             1                   -33  \n",
       "\n",
       "[5 rows x 102 columns]"
      ]
     },
     "execution_count": 31,
     "metadata": {},
     "output_type": "execute_result"
    }
   ],
   "source": [
    "data_test = pd.read_csv('./features_test.csv', index_col='match_id')\n",
    "\n",
    "data_test.head()"
   ]
  },
  {
   "cell_type": "code",
   "execution_count": 32,
   "metadata": {
    "collapsed": false
   },
   "outputs": [],
   "source": [
    "Tnum_features, Tbag_features, Tblood_features, Tlobby_features, Tlevel_features = get_features(data_test)"
   ]
  },
  {
   "cell_type": "code",
   "execution_count": 33,
   "metadata": {
    "collapsed": true
   },
   "outputs": [],
   "source": [
    "Tsyn_features, _, _ = count_syn(data_test, True, sum_syn, sum_antisyn)"
   ]
  },
  {
   "cell_type": "code",
   "execution_count": 35,
   "metadata": {
    "collapsed": false
   },
   "outputs": [],
   "source": [
    "X_test = get_data(Tnum_features, Tbag_features, Tblood_features, Tlobby_features, Tlevel_features, Tsyn_features)"
   ]
  },
  {
   "cell_type": "markdown",
   "metadata": {
    "collapsed": true
   },
   "source": [
    "# Метапризнаки над градиентным бустингом"
   ]
  },
  {
   "cell_type": "code",
   "execution_count": 59,
   "metadata": {
    "collapsed": false,
    "scrolled": true
   },
   "outputs": [],
   "source": [
    "np.random.seed(0)\n",
    "\n",
    "n_folds = 10\n",
    "verbose = True\n",
    "shuffle = False\n",
    "\n",
    "X, y, X_submission = X_train, targets, X_test\n",
    "\n",
    "if shuffle:\n",
    "    idx = np.random.permutation(y.size)\n",
    "    X = X[idx]\n",
    "    y = y[idx]\n",
    "\n",
    "skf = list(StratifiedKFold(y, n_folds))\n",
    "\n",
    "clfs = [GradientBoostingClassifier(n_estimators=200, max_depth=6)]\n",
    "\n",
    "dataset_blend_train = np.zeros((X.shape[0], len(clfs)))\n",
    "dataset_blend_test = np.zeros((X_submission.shape[0], len(clfs)))\n",
    "\n",
    "for j, clf in enumerate(clfs):\n",
    "    print j, clf\n",
    "    dataset_blend_test_j = np.zeros((X_submission.shape[0], len(skf)))\n",
    "    for i, (train, test) in enumerate(skf):\n",
    "        Xtrain = X[train]\n",
    "        y_train = y[train]\n",
    "        Xtest = X[test]\n",
    "        y_test = y[test]\n",
    "        clf.fit(Xtrain, y_train)\n",
    "        y_submission = clf.predict_proba(Xtest)[:,1]\n",
    "        dataset_blend_train[test, j] = y_submission\n",
    "        dataset_blend_test_j[:, i] = clf.predict_proba(X_submission)[:,1]\n",
    "    dataset_blend_test[:,j] = dataset_blend_test_j.mean(1)"
   ]
  },
  {
   "cell_type": "markdown",
   "metadata": {},
   "source": [
    "# XGBOOST"
   ]
  },
  {
   "cell_type": "code",
   "execution_count": 49,
   "metadata": {
    "collapsed": false
   },
   "outputs": [],
   "source": [
    "clf = xgb.XGBClassifier(n_estimators=300, max_depth=6, nthread=4)\n",
    "clf.fit(X_train, targets)\n",
    "XGB_scores = clf.predict_proba(X_test)[:, 1]"
   ]
  },
  {
   "cell_type": "code",
   "execution_count": 39,
   "metadata": {
    "collapsed": false
   },
   "outputs": [],
   "source": [
    "DATA = np.concatenate((X_train, dataset_blend_train), axis=1)"
   ]
  },
  {
   "cell_type": "code",
   "execution_count": 719,
   "metadata": {
    "collapsed": false
   },
   "outputs": [],
   "source": [
    "TDATA = np.concatenate((X_test, dataset_blend_test), axis=1)"
   ]
  },
  {
   "cell_type": "markdown",
   "metadata": {},
   "source": [
    "# LogisticRegression"
   ]
  },
  {
   "cell_type": "code",
   "execution_count": 729,
   "metadata": {
    "collapsed": false
   },
   "outputs": [
    {
     "name": "stdout",
     "output_type": "stream",
     "text": [
      "fit finish..\n"
     ]
    }
   ],
   "source": [
    "LR_clf = LogisticRegression(C=0.02)\n",
    "LR_clf.fit(DATA, targets)\n",
    "print 'fit finish..'\n",
    "LR_scores = LR_clf.predict_proba(TDATA)[:, 1]"
   ]
  },
  {
   "cell_type": "markdown",
   "metadata": {},
   "source": [
    "# Ансамбль"
   ]
  },
  {
   "cell_type": "code",
   "execution_count": 730,
   "metadata": {
    "collapsed": false
   },
   "outputs": [],
   "source": [
    "scores = 0.72 * LR_scores + 0.28 * XGB_scores"
   ]
  },
  {
   "cell_type": "markdown",
   "metadata": {},
   "source": [
    "# Готовим сабмит"
   ]
  },
  {
   "cell_type": "code",
   "execution_count": 731,
   "metadata": {
    "collapsed": false
   },
   "outputs": [],
   "source": [
    "def make_submission(name_file, scores):\n",
    "    f = open(name_file, 'w')\n",
    "    f.write('match_id,' + 'radiant_win' + '\\n')\n",
    "    for i, game_id in enumerate(data_test.index):\n",
    "        f.write(str(game_id) + ',' + str(scores[i]) + '\\n')\n",
    "    f.close()\n",
    "    pass"
   ]
  },
  {
   "cell_type": "code",
   "execution_count": 732,
   "metadata": {
    "collapsed": false
   },
   "outputs": [],
   "source": [
    "make_submission('sub.csv', scores)"
   ]
  }
 ],
 "metadata": {
  "kernelspec": {
   "display_name": "Python 2",
   "language": "python",
   "name": "python2"
  },
  "language_info": {
   "codemirror_mode": {
    "name": "ipython",
    "version": 2
   },
   "file_extension": ".py",
   "mimetype": "text/x-python",
   "name": "python",
   "nbconvert_exporter": "python",
   "pygments_lexer": "ipython2",
   "version": "2.7.11"
  }
 },
 "nbformat": 4,
 "nbformat_minor": 0
}
